{
 "cells": [
  {
   "cell_type": "code",
   "execution_count": null,
   "metadata": {},
   "outputs": [],
   "source": [
    "import cv2\n",
    "import numpy as np\n",
    "\n",
    "vc = cv2.VideoCapture(0)\n",
    "pic_no = 0\n",
    "total_pic = 1500\n",
    "flag_capturing = False\n",
    "path = 'C:/Users/Ahmed Khan/3D Objects/mythesiswork/data/Z'\n",
    "while(vc.isOpened()):\n",
    "    \n",
    "    rval, frame = vc.read()\n",
    "    frame = cv2.flip(frame, 1)\n",
    "    \n",
    "    cv2.rectangle(frame, (300,300), (100,100), (0,255,0),0)\n",
    "    \n",
    "    cv2.imshow(\"image\", frame)\n",
    "    \n",
    "    crop_img = frame[100:300, 100:300]\n",
    "    \n",
    "    if flag_capturing:\n",
    "        \n",
    "        pic_no += 1\n",
    "        save_img = cv2.resize( crop_img, (50,50) )\n",
    "        save_img = np.array(save_img)\n",
    "        cv2.imwrite(path + \"/\" + str(pic_no) + \".jpg\", save_img)\n",
    "        \n",
    "    \n",
    "    keypress = cv2.waitKey(1)\n",
    "    \n",
    "    if pic_no == total_pic:\n",
    "        flag_capturing = False\n",
    "        break\n",
    "    \n",
    "    if keypress == ord('q'):\n",
    "        break\n",
    "    elif keypress == ord('c'):\n",
    "        flag_capturing = True\n",
    "\n",
    "vc.release()\n",
    "cv2.destroyAllWindows()\n",
    "cv2.waitKey(1)\n",
    "\n"
   ]
  },
  {
   "cell_type": "code",
   "execution_count": 3,
   "metadata": {},
   "outputs": [
    {
     "name": "stdout",
     "output_type": "stream",
     "text": [
      "['0', '1', '2', '3', '4', '5', '6', '7', '8', '9', 'A', 'B', 'C', 'D', 'E', 'F', 'G', 'H', 'I', 'J', 'K', 'L', 'M', 'N', 'O', 'P', 'Q', 'R', 'S', 'T', 'U', 'V', 'W', 'X', 'Y', 'Z', '_']\n"
     ]
    }
   ],
   "source": [
    "import os\n",
    "import numpy as np\n",
    "import cv2\n",
    "\n",
    "path = 'C:/Users/Ahmed Khan/3D Objects/mythesiswork/data/'\n",
    "path2 = 'C:/Users/Ahmed Khan/3D Objects/mythesiswork/data1/'\n",
    "\n",
    "gestures = os.listdir(path)\n",
    "\n",
    "print(gestures)\n",
    "\n",
    "for ix in gestures:\n",
    "    images = os.listdir(path + ix)\n",
    "    os.mkdir(path2 + ix)\n",
    "    for cx in images:\n",
    "        img_path = path + ix +'/' + cx\n",
    "        img = cv2.imread(img_path)\n",
    "        grey = cv2.cvtColor(img, cv2.COLOR_BGR2GRAY)\n",
    "        thresh = cv2.threshold(grey, 127, 255, cv2.THRESH_BINARY_INV+cv2.THRESH_OTSU)[1]\n",
    "        save_img = cv2.resize(thresh, (50,50))\n",
    "        cv2.imwrite(path2 + ix + '/' + cx, save_img)"
   ]
  },
  {
   "cell_type": "code",
   "execution_count": 26,
   "metadata": {},
   "outputs": [],
   "source": [
    "import numpy as np\n",
    "from keras.layers import Conv2D, Dense, Flatten, Dropout, MaxPooling2D\n",
    "from keras.models import Sequential, save_model\n",
    "from keras.utils import np_utils\n",
    "from keras.callbacks import ModelCheckpoint\n",
    "from sklearn.model_selection import train_test_split\n",
    "from sklearn.utils import shuffle\n",
    "import os\n",
    "import cv2"
   ]
  },
  {
   "cell_type": "code",
   "execution_count": 27,
   "metadata": {},
   "outputs": [],
   "source": [
    "path = 'C:/Users/Ahmed Khan/3D Objects/mythesiswork/data1/'"
   ]
  },
  {
   "cell_type": "code",
   "execution_count": 28,
   "metadata": {},
   "outputs": [],
   "source": [
    "gestures = os.listdir(path)"
   ]
  },
  {
   "cell_type": "code",
   "execution_count": 29,
   "metadata": {},
   "outputs": [],
   "source": [
    "dict_labels = {\n",
    "    '_':1,\n",
    "    '0':2,\n",
    "    '1':3,\n",
    "    '2':4,\n",
    "    '3':5,\n",
    "    '4':6,\n",
    "    '5':7,\n",
    "    '6':8,\n",
    "    '7':9,\n",
    "    '8':10,\n",
    "    '9':11,\n",
    "    'A':12,\n",
    "    'B':13,\n",
    "    'C':14,\n",
    "    'D':15,\n",
    "    'E':16,\n",
    "    'F':17,\n",
    "    'G':18,\n",
    "    'H':19,\n",
    "    'I':20,\n",
    "    'J':21,\n",
    "    'K':22,\n",
    "    'L':23,\n",
    "    'M':24,\n",
    "    'N':25,\n",
    "    'O':26,\n",
    "    'P':27,\n",
    "    'Q':28,\n",
    "    'R':29,\n",
    "    'S':30,\n",
    "    'T':31,\n",
    "    'U':32,\n",
    "    'V':33,\n",
    "    'W':34,\n",
    "    'X':35,\n",
    "    'Y':36,\n",
    "    'Z':37,\n",
    "    \n",
    "}"
   ]
  },
  {
   "cell_type": "code",
   "execution_count": 30,
   "metadata": {},
   "outputs": [
    {
     "name": "stdout",
     "output_type": "stream",
     "text": [
      "['_', '0', '1', '2', '3', '4', '5', '6', '7', '8', '9', 'A', 'B', 'C', 'D', 'E', 'F', 'G', 'H', 'I', 'J', 'K', 'L', 'M', 'N', 'O', 'P', 'Q', 'R', 'S', 'T', 'U', 'V', 'W', 'X', 'Y', 'Z']\n"
     ]
    }
   ],
   "source": [
    "print(list(dict_labels.keys()))"
   ]
  },
  {
   "cell_type": "code",
   "execution_count": 31,
   "metadata": {},
   "outputs": [],
   "source": [
    "x, y = [], []\n",
    "for ix in gestures:\n",
    "    images = os.listdir(path + ix)\n",
    "    for cx in images:\n",
    "        img_path = path + ix + '/' + cx\n",
    "        img = cv2.imread(img_path, 0)\n",
    "        img = img.reshape((50,50,1))\n",
    "        img = img/255.0\n",
    "        x.append(img)\n",
    "        y.append(dict_labels[ix])"
   ]
  },
  {
   "cell_type": "code",
   "execution_count": 32,
   "metadata": {},
   "outputs": [],
   "source": [
    "X = np.array(x)\n",
    "Y = np.array(y)\n",
    "Y = np_utils.to_categorical(Y)"
   ]
  },
  {
   "cell_type": "code",
   "execution_count": 33,
   "metadata": {},
   "outputs": [],
   "source": [
    "categories = Y.shape[1]"
   ]
  },
  {
   "cell_type": "code",
   "execution_count": 34,
   "metadata": {},
   "outputs": [],
   "source": [
    "X, Y = shuffle(X, Y, random_state=0)"
   ]
  },
  {
   "cell_type": "code",
   "execution_count": 35,
   "metadata": {},
   "outputs": [
    {
     "data": {
      "text/plain": [
       "(55500, 50, 50, 1)"
      ]
     },
     "execution_count": 35,
     "metadata": {},
     "output_type": "execute_result"
    }
   ],
   "source": [
    "X.shape"
   ]
  },
  {
   "cell_type": "code",
   "execution_count": 36,
   "metadata": {},
   "outputs": [
    {
     "data": {
      "text/plain": [
       "(55500, 38)"
      ]
     },
     "execution_count": 36,
     "metadata": {},
     "output_type": "execute_result"
    }
   ],
   "source": [
    "Y.shape"
   ]
  },
  {
   "cell_type": "code",
   "execution_count": 37,
   "metadata": {},
   "outputs": [],
   "source": [
    "X_train, X_test, Y_train, Y_test = train_test_split(X, Y, test_size=0.25)"
   ]
  },
  {
   "cell_type": "code",
   "execution_count": 38,
   "metadata": {},
   "outputs": [
    {
     "name": "stdout",
     "output_type": "stream",
     "text": [
      "(41625, 50, 50, 1) (13875, 50, 50, 1)\n",
      "(41625, 38) (13875, 38)\n"
     ]
    }
   ],
   "source": [
    "print(X_train.shape, X_test.shape)\n",
    "print(Y_train.shape, Y_test.shape)"
   ]
  },
  {
   "cell_type": "code",
   "execution_count": 39,
   "metadata": {},
   "outputs": [
    {
     "name": "stdout",
     "output_type": "stream",
     "text": [
      "_________________________________________________________________\n",
      "Layer (type)                 Output Shape              Param #   \n",
      "=================================================================\n",
      "conv2d_1 (Conv2D)            (None, 48, 48, 64)        640       \n",
      "_________________________________________________________________\n",
      "max_pooling2d_1 (MaxPooling2 (None, 24, 24, 64)        0         \n",
      "_________________________________________________________________\n",
      "conv2d_2 (Conv2D)            (None, 22, 22, 64)        36928     \n",
      "_________________________________________________________________\n",
      "max_pooling2d_2 (MaxPooling2 (None, 11, 11, 64)        0         \n",
      "_________________________________________________________________\n",
      "conv2d_3 (Conv2D)            (None, 9, 9, 64)          36928     \n",
      "_________________________________________________________________\n",
      "max_pooling2d_3 (MaxPooling2 (None, 4, 4, 64)          0         \n",
      "_________________________________________________________________\n",
      "flatten_1 (Flatten)          (None, 1024)              0         \n",
      "_________________________________________________________________\n",
      "dense_1 (Dense)              (None, 128)               131200    \n",
      "_________________________________________________________________\n",
      "dropout_1 (Dropout)          (None, 128)               0         \n",
      "_________________________________________________________________\n",
      "dense_2 (Dense)              (None, 38)                4902      \n",
      "=================================================================\n",
      "Total params: 210,598\n",
      "Trainable params: 210,598\n",
      "Non-trainable params: 0\n",
      "_________________________________________________________________\n"
     ]
    }
   ],
   "source": [
    "model = Sequential()\n",
    "model.add(Conv2D(64, kernel_size=(3,3), activation = 'relu', input_shape=(50,50 ,1) ))\n",
    "model.add(MaxPooling2D(pool_size = (2, 2)))\n",
    "\n",
    "model.add(Conv2D(64, kernel_size = (3, 3), activation = 'relu'))\n",
    "model.add(MaxPooling2D(pool_size = (2, 2)))\n",
    "\n",
    "model.add(Conv2D(64, kernel_size = (3, 3), activation = 'relu'))\n",
    "model.add(MaxPooling2D(pool_size = (2, 2)))\n",
    "\n",
    "model.add(Flatten())\n",
    "model.add(Dense(128, activation = 'relu'))\n",
    "model.add(Dropout(0.20))\n",
    "model.add(Dense(categories, activation = 'softmax'))\n",
    "\n",
    "model.summary()"
   ]
  },
  {
   "cell_type": "code",
   "execution_count": 40,
   "metadata": {},
   "outputs": [],
   "source": [
    "model.compile(optimizer='Adam', metrics=['accuracy'], loss='categorical_crossentropy')"
   ]
  },
  {
   "cell_type": "code",
   "execution_count": 41,
   "metadata": {},
   "outputs": [
    {
     "name": "stdout",
     "output_type": "stream",
     "text": [
      "Train on 41625 samples, validate on 13875 samples\n",
      "Epoch 1/25\n",
      "41625/41625 [==============================] - 163s 4ms/step - loss: 0.4258 - acc: 0.8814 - val_loss: 0.0071 - val_acc: 0.9978\n",
      "Epoch 2/25\n",
      "41625/41625 [==============================] - 163s 4ms/step - loss: 0.0185 - acc: 0.9942 - val_loss: 0.0015 - val_acc: 0.9996\n",
      "Epoch 3/25\n",
      "41625/41625 [==============================] - 158s 4ms/step - loss: 0.0099 - acc: 0.9969 - val_loss: 0.0015 - val_acc: 0.9996\n",
      "Epoch 4/25\n",
      "41625/41625 [==============================] - 154s 4ms/step - loss: 0.0076 - acc: 0.9977 - val_loss: 0.0039 - val_acc: 0.9993\n",
      "Epoch 5/25\n",
      "41625/41625 [==============================] - 159s 4ms/step - loss: 0.0051 - acc: 0.9985 - val_loss: 3.9900e-04 - val_acc: 0.9999\n",
      "Epoch 6/25\n",
      "41625/41625 [==============================] - 162s 4ms/step - loss: 0.0063 - acc: 0.9979 - val_loss: 0.0019 - val_acc: 0.9995\n",
      "Epoch 7/25\n",
      "41625/41625 [==============================] - 150s 4ms/step - loss: 0.0049 - acc: 0.9987 - val_loss: 9.6863e-04 - val_acc: 0.9996\n",
      "Epoch 8/25\n",
      "41625/41625 [==============================] - 150s 4ms/step - loss: 0.0026 - acc: 0.9991 - val_loss: 2.2259e-04 - val_acc: 0.9999\n",
      "Epoch 9/25\n",
      "41625/41625 [==============================] - 157s 4ms/step - loss: 0.0044 - acc: 0.9986 - val_loss: 6.7165e-04 - val_acc: 0.9997\n",
      "Epoch 10/25\n",
      "41625/41625 [==============================] - 218s 5ms/step - loss: 0.0042 - acc: 0.9987 - val_loss: 0.0024 - val_acc: 0.9990\n",
      "Epoch 11/25\n",
      "41625/41625 [==============================] - 216s 5ms/step - loss: 0.0036 - acc: 0.9989 - val_loss: 9.8117e-06 - val_acc: 1.0000\n",
      "Epoch 12/25\n",
      "41625/41625 [==============================] - 215s 5ms/step - loss: 0.0017 - acc: 0.9994 - val_loss: 1.9446e-06 - val_acc: 1.0000\n",
      "Epoch 13/25\n",
      "41625/41625 [==============================] - 215s 5ms/step - loss: 0.0030 - acc: 0.9992 - val_loss: 0.0034 - val_acc: 0.9991\n",
      "Epoch 14/25\n",
      "41625/41625 [==============================] - 215s 5ms/step - loss: 0.0023 - acc: 0.9992 - val_loss: 4.9288e-04 - val_acc: 0.9999\n",
      "Epoch 15/25\n",
      "41625/41625 [==============================] - 215s 5ms/step - loss: 0.0019 - acc: 0.9995 - val_loss: 3.6391e-04 - val_acc: 0.9999\n",
      "Epoch 16/25\n",
      "41625/41625 [==============================] - 215s 5ms/step - loss: 0.0029 - acc: 0.9992 - val_loss: 5.1632e-05 - val_acc: 1.0000\n",
      "Epoch 17/25\n",
      "41625/41625 [==============================] - 218s 5ms/step - loss: 0.0044 - acc: 0.9989 - val_loss: 0.0011 - val_acc: 0.9996\n",
      "Epoch 18/25\n",
      "41625/41625 [==============================] - 218s 5ms/step - loss: 0.0022 - acc: 0.9994 - val_loss: 1.8658e-05 - val_acc: 1.0000\n",
      "Epoch 19/25\n",
      "41625/41625 [==============================] - 217s 5ms/step - loss: 0.0019 - acc: 0.9995 - val_loss: 2.5667e-05 - val_acc: 1.0000\n",
      "Epoch 20/25\n",
      "41625/41625 [==============================] - 4226s 102ms/step - loss: 3.1274e-04 - acc: 0.9999 - val_loss: 0.0017 - val_acc: 0.9995\n",
      "Epoch 21/25\n",
      "41625/41625 [==============================] - 228s 5ms/step - loss: 0.0041 - acc: 0.9986 - val_loss: 5.6280e-05 - val_acc: 1.0000\n",
      "Epoch 22/25\n",
      "41625/41625 [==============================] - 218s 5ms/step - loss: 0.0026 - acc: 0.9993 - val_loss: 2.5198e-05 - val_acc: 1.0000\n",
      "Epoch 23/25\n",
      "41625/41625 [==============================] - 219s 5ms/step - loss: 0.0013 - acc: 0.9996 - val_loss: 1.7967e-05 - val_acc: 1.0000\n",
      "Epoch 24/25\n",
      "41625/41625 [==============================] - 224s 5ms/step - loss: 0.0022 - acc: 0.9995 - val_loss: 6.8404e-05 - val_acc: 1.0000\n",
      "Epoch 25/25\n",
      "41625/41625 [==============================] - 221s 5ms/step - loss: 0.0021 - acc: 0.9992 - val_loss: 4.0578e-05 - val_acc: 1.0000\n"
     ]
    }
   ],
   "source": [
    "fit = model.fit(X_train, Y_train, batch_size=138, epochs=25, validation_data=[X_test, Y_test])"
   ]
  },
  {
   "cell_type": "code",
   "execution_count": 50,
   "metadata": {},
   "outputs": [],
   "source": [
    "model.save('CNNmodel.h5')"
   ]
  },
  {
   "cell_type": "code",
   "execution_count": 48,
   "metadata": {},
   "outputs": [],
   "source": [
    "from keras.models import load_model"
   ]
  },
  {
   "cell_type": "code",
   "execution_count": 49,
   "metadata": {},
   "outputs": [],
   "source": [
    "m = load_model('CNNmodel.h5')"
   ]
  },
  {
   "cell_type": "code",
   "execution_count": 42,
   "metadata": {},
   "outputs": [],
   "source": [
    "y_pred = m.predict(X_test)"
   ]
  },
  {
   "cell_type": "code",
   "execution_count": 43,
   "metadata": {},
   "outputs": [],
   "source": [
    "from sklearn.metrics import accuracy_score"
   ]
  },
  {
   "cell_type": "code",
   "execution_count": 63,
   "metadata": {},
   "outputs": [
    {
     "data": {
      "text/plain": [
       "array([[0., 0., 0., ..., 0., 0., 0.],\n",
       "       [0., 0., 0., ..., 0., 0., 0.],\n",
       "       [0., 0., 0., ..., 0., 0., 0.],\n",
       "       ...,\n",
       "       [0., 0., 0., ..., 0., 0., 0.],\n",
       "       [0., 0., 0., ..., 0., 0., 0.],\n",
       "       [0., 0., 0., ..., 0., 0., 0.]], dtype=float32)"
      ]
     },
     "execution_count": 63,
     "metadata": {},
     "output_type": "execute_result"
    }
   ],
   "source": [
    "y_pred.round()"
   ]
  },
  {
   "cell_type": "code",
   "execution_count": 44,
   "metadata": {},
   "outputs": [
    {
     "data": {
      "text/plain": [
       "100.0"
      ]
     },
     "execution_count": 44,
     "metadata": {},
     "output_type": "execute_result"
    }
   ],
   "source": [
    "accuracy_score(Y_test, y_pred.round())*100"
   ]
  },
  {
   "cell_type": "code",
   "execution_count": 45,
   "metadata": {},
   "outputs": [],
   "source": [
    "from sklearn.metrics import classification_report, confusion_matrix"
   ]
  },
  {
   "cell_type": "code",
   "execution_count": 46,
   "metadata": {},
   "outputs": [
    {
     "name": "stdout",
     "output_type": "stream",
     "text": [
      "              precision    recall  f1-score   support\n",
      "\n",
      "           0       0.00      0.00      0.00         0\n",
      "           1       1.00      1.00      1.00       365\n",
      "           2       1.00      1.00      1.00       375\n",
      "           3       1.00      1.00      1.00       401\n",
      "           4       1.00      1.00      1.00       391\n",
      "           5       1.00      1.00      1.00       377\n",
      "           6       1.00      1.00      1.00       376\n",
      "           7       1.00      1.00      1.00       369\n",
      "           8       1.00      1.00      1.00       361\n",
      "           9       1.00      1.00      1.00       382\n",
      "          10       1.00      1.00      1.00       371\n",
      "          11       1.00      1.00      1.00       374\n",
      "          12       1.00      1.00      1.00       392\n",
      "          13       1.00      1.00      1.00       401\n",
      "          14       1.00      1.00      1.00       374\n",
      "          15       1.00      1.00      1.00       359\n",
      "          16       1.00      1.00      1.00       403\n",
      "          17       1.00      1.00      1.00       376\n",
      "          18       1.00      1.00      1.00       371\n",
      "          19       1.00      1.00      1.00       386\n",
      "          20       1.00      1.00      1.00       371\n",
      "          21       1.00      1.00      1.00       361\n",
      "          22       1.00      1.00      1.00       366\n",
      "          23       1.00      1.00      1.00       356\n",
      "          24       1.00      1.00      1.00       376\n",
      "          25       1.00      1.00      1.00       355\n",
      "          26       1.00      1.00      1.00       393\n",
      "          27       1.00      1.00      1.00       371\n",
      "          28       1.00      1.00      1.00       373\n",
      "          29       1.00      1.00      1.00       389\n",
      "          30       1.00      1.00      1.00       377\n",
      "          31       1.00      1.00      1.00       375\n",
      "          32       1.00      1.00      1.00       360\n",
      "          33       1.00      1.00      1.00       368\n",
      "          34       1.00      1.00      1.00       363\n",
      "          35       1.00      1.00      1.00       367\n",
      "          36       1.00      1.00      1.00       350\n",
      "          37       1.00      1.00      1.00       400\n",
      "\n",
      "   micro avg       1.00      1.00      1.00     13875\n",
      "   macro avg       0.97      0.97      0.97     13875\n",
      "weighted avg       1.00      1.00      1.00     13875\n",
      " samples avg       1.00      1.00      1.00     13875\n",
      "\n"
     ]
    },
    {
     "name": "stderr",
     "output_type": "stream",
     "text": [
      "C:\\Users\\Ahmed Khan\\Anaconda3\\lib\\site-packages\\sklearn\\metrics\\classification.py:1143: UndefinedMetricWarning: Precision and F-score are ill-defined and being set to 0.0 in labels with no predicted samples.\n",
      "  'precision', 'predicted', average, warn_for)\n",
      "C:\\Users\\Ahmed Khan\\Anaconda3\\lib\\site-packages\\sklearn\\metrics\\classification.py:1145: UndefinedMetricWarning: Recall and F-score are ill-defined and being set to 0.0 in labels with no true samples.\n",
      "  'recall', 'true', average, warn_for)\n"
     ]
    }
   ],
   "source": [
    "print(classification_report(y_pred.round(), Y_test))"
   ]
  },
  {
   "cell_type": "code",
   "execution_count": 51,
   "metadata": {},
   "outputs": [
    {
     "name": "stdout",
     "output_type": "stream",
     "text": [
      "13875/13875 [==============================] - 23s 2ms/step\n",
      "Accuracy:  100.0\n"
     ]
    }
   ],
   "source": [
    "accuracy = m.evaluate(X_test,Y_test,batch_size=138)\n",
    "print(\"Accuracy: \",accuracy[1]*100)"
   ]
  },
  {
   "cell_type": "code",
   "execution_count": 20,
   "metadata": {},
   "outputs": [],
   "source": [
    "import matplotlib.pyplot as plt\n",
    "%matplotlib inline"
   ]
  },
  {
   "cell_type": "code",
   "execution_count": 21,
   "metadata": {},
   "outputs": [
    {
     "data": {
      "image/png": "[encoded data removed]",
      "text/plain": [
       "<Figure size 432x288 with 1 Axes>"
      ]
     },
     "metadata": {
      "needs_background": "light"
     },
     "output_type": "display_data"
    }
   ],
   "source": [
    "plt.plot(fit.history['acc'])\n",
    "plt.plot(fit.history['val_acc'])\n",
    "plt.title(\"Accuracy\")\n",
    "plt.xlabel('epoch')\n",
    "plt.ylabel('accuracy')\n",
    "plt.legend(['train','test'])\n",
    "plt.show()"
   ]
  },
  {
   "cell_type": "code",
   "execution_count": 22,
   "metadata": {},
   "outputs": [
    {
     "data": {
      "image/png": "[encoded data removed]",
      "text/plain": [
       "<Figure size 432x288 with 1 Axes>"
      ]
     },
     "metadata": {
      "needs_background": "light"
     },
     "output_type": "display_data"
    }
   ],
   "source": [
    "plt.plot(fit.history['loss'])\n",
    "plt.plot(fit.history['val_loss'])\n",
    "plt.title(\"Loss\")\n",
    "plt.xlabel('epoch')\n",
    "plt.ylabel('loss')\n",
    "plt.legend(['train','test'])\n",
    "plt.show()"
   ]
  },
  {
   "cell_type": "code",
   "execution_count": 23,
   "metadata": {},
   "outputs": [],
   "source": []
  },
  {
   "cell_type": "code",
   "execution_count": 23,
   "metadata": {},
   "outputs": [
    {
     "name": "stderr",
     "output_type": "stream",
     "text": [
      "Using TensorFlow backend.\n"
     ]
    },
    {
     "name": "stdout",
     "output_type": "stream",
     "text": [
      "WARNING:tensorflow:From C:\\Users\\Ahmed Khan\\Anaconda3\\lib\\site-packages\\tensorflow\\python\\framework\\op_def_library.py:263: colocate_with (from tensorflow.python.framework.ops) is deprecated and will be removed in a future version.\n",
      "Instructions for updating:\n",
      "Colocations handled automatically by placer.\n",
      "WARNING:tensorflow:From C:\\Users\\Ahmed Khan\\Anaconda3\\lib\\site-packages\\keras\\backend\\tensorflow_backend.py:3445: calling dropout (from tensorflow.python.ops.nn_ops) with keep_prob is deprecated and will be removed in a future version.\n",
      "Instructions for updating:\n",
      "Please use `rate` instead of `keep_prob`. Rate should be set to `rate = 1 - keep_prob`.\n",
      "WARNING:tensorflow:From C:\\Users\\Ahmed Khan\\Anaconda3\\lib\\site-packages\\tensorflow\\python\\ops\\math_ops.py:3066: to_int32 (from tensorflow.python.ops.math_ops) is deprecated and will be removed in a future version.\n",
      "Instructions for updating:\n",
      "Use tf.cast instead.\n"
     ]
    }
   ],
   "source": [
    "import cv2\n",
    "import numpy as np\n",
    "from keras.models import load_model\n",
    "\n",
    "model = load_model('CNNmodel.h5')\n",
    "\n",
    "\n",
    "gestures = {\n",
    "    1:' ',\n",
    "    2:'0',\n",
    "    3:'1',\n",
    "    4:'2',\n",
    "    5:'3',\n",
    "    6:'4',\n",
    "    7:'5',\n",
    "    8:'6',\n",
    "    9:'7',\n",
    "    10:'8',\n",
    "    11:'9',\n",
    "    12:'A',\n",
    "    13:'B',\n",
    "    14:'C',\n",
    "    15:'D',\n",
    "    16:'E',\n",
    "    17:'F',\n",
    "    18:'G',\n",
    "    19:'H',\n",
    "    20:'I',\n",
    "    21:'J',\n",
    "    22:'K',\n",
    "    23:'L',\n",
    "    24:'M',\n",
    "    25:'N',\n",
    "    26:'O',\n",
    "    27:'P',\n",
    "    28:'Q',\n",
    "    29:'R',\n",
    "    30:'S',\n",
    "    31:'T',\n",
    "    32:'U',\n",
    "    33:'V',\n",
    "    34:'W',\n",
    "    35:'X',\n",
    "    36:'Y',\n",
    "    37:'Z',\n",
    "}\n",
    "\n",
    "\n",
    "def predict(gesture):\n",
    "    img = cv2.resize(gesture, (50,50))\n",
    "    img = img.reshape(1,50,50,1)\n",
    "    img = img/255.0\n",
    "    prd = model.predict(img)\n",
    "    index = prd.argmax()\n",
    "    return gestures[index]\n",
    "\n",
    "\n",
    "vc = cv2.VideoCapture(0)\n",
    "rval, frame = vc.read()\n",
    "old_text = ''\n",
    "pred_text = ''\n",
    "count_frames = 0\n",
    "total_str = ''\n",
    "flag = False\n",
    "\n",
    "\n",
    "while True:\n",
    "    \n",
    "    if frame is not None: \n",
    "        \n",
    "        frame = cv2.flip(frame, 1)\n",
    "        frame = cv2.resize( frame, (400,400) )\n",
    "        \n",
    "        cv2.rectangle(frame, (300,300), (100,100), (0,255,0), 2)\n",
    "        \n",
    "        crop_img = frame[100:300, 100:300]\n",
    "        grey = cv2.cvtColor(crop_img, cv2.COLOR_BGR2GRAY)\n",
    "        \n",
    "        thresh = cv2.threshold(grey,210,255,cv2.THRESH_BINARY_INV+cv2.THRESH_OTSU)[1]\n",
    "      \n",
    "        \n",
    "        blackboard = np.zeros(frame.shape, dtype=np.uint8)\n",
    "        cv2.putText(blackboard, \"Predicted text : \", (20, 40), cv2.FONT_HERSHEY_COMPLEX_SMALL, 1, (255, 255, 0))\n",
    "        if count_frames > 50 and pred_text != \"\":\n",
    "            total_str += pred_text\n",
    "            count_frames = 0\n",
    "            \n",
    "        if flag == True:\n",
    "            old_text = pred_text\n",
    "            pred_text = predict(thresh)\n",
    "        \n",
    "            if old_text == pred_text:\n",
    "                count_frames += 1\n",
    "            else:\n",
    "                count_frames = 0\n",
    "            cv2.putText(blackboard, total_str, (20, 100), cv2.FONT_HERSHEY_COMPLEX_SMALL, 1, (255, 255, 127))\n",
    "        res = np.hstack((frame, blackboard))\n",
    "        \n",
    "        cv2.imshow(\"image\", res)\n",
    "        cv2.imshow(\"hand\", thresh)\n",
    "        \n",
    "    rval, frame = vc.read()\n",
    "    keypress = cv2.waitKey(1)\n",
    "    if keypress == ord('c'):\n",
    "        flag = True\n",
    "    if keypress == ord('q'):\n",
    "        break\n",
    "\n",
    "vc.release()\n",
    "cv2.destroyAllWindows()\n",
    "cv2.waitKey(1)\n",
    "\n",
    "vc.release()"
   ]
  },
  {
   "cell_type": "code",
   "execution_count": 31,
   "metadata": {},
   "outputs": [],
   "source": [
    "import glob\n",
    "import PIL\n",
    "import numpy\n",
    "\n",
    "data = np.array([ np.array(PIL.Image.open(f).convert(\"RGB\")).ravel() \n",
    "                  for f in glob.glob(\"C:/Users/Ahmed Khan/3D Objects/mythesiswork/data/*.jpeg\")])"
   ]
  },
  {
   "cell_type": "code",
   "execution_count": 32,
   "metadata": {},
   "outputs": [
    {
     "data": {
      "text/plain": [
       "array([], dtype=float64)"
      ]
     },
     "execution_count": 32,
     "metadata": {},
     "output_type": "execute_result"
    }
   ],
   "source": [
    "data"
   ]
  },
  {
   "cell_type": "code",
   "execution_count": null,
   "metadata": {},
   "outputs": [],
   "source": []
  }
 ],
 "metadata": {
  "kernelspec": {
   "display_name": "Python 3",
   "language": "python",
   "name": "python3"
  },
  "language_info": {
   "codemirror_mode": {
    "name": "ipython",
    "version": 3
   },
   "file_extension": ".py",
   "mimetype": "text/x-python",
   "name": "python",
   "nbconvert_exporter": "python",
   "pygments_lexer": "ipython3",
   "version": "3.7.1"
  }
 },
 "nbformat": 4,
 "nbformat_minor": 2
}
